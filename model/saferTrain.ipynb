{
  "nbformat": 4,
  "nbformat_minor": 0,
  "metadata": {
    "colab": {
      "name": "saferTrain.ipynb",
      "version": "0.3.2",
      "provenance": []
    },
    "kernelspec": {
      "name": "python3",
      "display_name": "Python 3"
    }
  },
  "cells": [
    {
      "metadata": {
        "id": "2YjWdgqaQpcD",
        "colab_type": "code",
        "colab": {
          "base_uri": "https://localhost:8080/",
          "height": 235
        },
        "outputId": "5e4a25a7-292a-4872-fd72-517e7fc2bd87"
      },
      "cell_type": "code",
      "source": [
        "!wget https://raw.githubusercontent.com/agoel00/SaferAPI/master/data/crime.csv?token=Amx6WiBHNDx3Kgo6DY-7yGhwFz8iDiQlks5cHkm3wA%3D%3D"
      ],
      "execution_count": 1,
      "outputs": [
        {
          "output_type": "stream",
          "text": [
            "--2018-12-15 14:56:36--  https://raw.githubusercontent.com/agoel00/SaferAPI/master/data/crime.csv?token=Amx6WiBHNDx3Kgo6DY-7yGhwFz8iDiQlks5cHkm3wA%3D%3D\n",
            "Resolving raw.githubusercontent.com (raw.githubusercontent.com)... 151.101.0.133, 151.101.64.133, 151.101.128.133, ...\n",
            "Connecting to raw.githubusercontent.com (raw.githubusercontent.com)|151.101.0.133|:443... connected.\n",
            "HTTP request sent, awaiting response... 200 OK\n",
            "Length: 14747 (14K) [text/plain]\n",
            "Saving to: ‘crime.csv?token=Amx6WiBHNDx3Kgo6DY-7yGhwFz8iDiQlks5cHkm3wA==.1’\n",
            "\n",
            "\r          crime.csv   0%[                    ]       0  --.-KB/s               \rcrime.csv?token=Amx 100%[===================>]  14.40K  --.-KB/s    in 0.007s  \n",
            "\n",
            "2018-12-15 14:56:36 (2.10 MB/s) - ‘crime.csv?token=Amx6WiBHNDx3Kgo6DY-7yGhwFz8iDiQlks5cHkm3wA==.1’ saved [14747/14747]\n",
            "\n"
          ],
          "name": "stdout"
        }
      ]
    },
    {
      "metadata": {
        "id": "neo33albQ4SC",
        "colab_type": "code",
        "colab": {}
      },
      "cell_type": "code",
      "source": [
        "import pandas as pd\n",
        "import numpy as np"
      ],
      "execution_count": 0,
      "outputs": []
    },
    {
      "metadata": {
        "id": "PUeEISAXQ_wx",
        "colab_type": "code",
        "colab": {}
      },
      "cell_type": "code",
      "source": [
        "data = pd.read_csv(\"crime.csv\")"
      ],
      "execution_count": 0,
      "outputs": []
    },
    {
      "metadata": {
        "id": "20Z-xXGzRLk9",
        "colab_type": "code",
        "colab": {
          "base_uri": "https://localhost:8080/",
          "height": 204
        },
        "outputId": "34df8e16-c06e-432f-d4e8-144166cc56fb"
      },
      "cell_type": "code",
      "source": [
        "data.head()"
      ],
      "execution_count": 4,
      "outputs": [
        {
          "output_type": "execute_result",
          "data": {
            "text/html": [
              "<div>\n",
              "<style scoped>\n",
              "    .dataframe tbody tr th:only-of-type {\n",
              "        vertical-align: middle;\n",
              "    }\n",
              "\n",
              "    .dataframe tbody tr th {\n",
              "        vertical-align: top;\n",
              "    }\n",
              "\n",
              "    .dataframe thead th {\n",
              "        text-align: right;\n",
              "    }\n",
              "</style>\n",
              "<table border=\"1\" class=\"dataframe\">\n",
              "  <thead>\n",
              "    <tr style=\"text-align: right;\">\n",
              "      <th></th>\n",
              "      <th>nm_pol</th>\n",
              "      <th>murder</th>\n",
              "      <th>rape</th>\n",
              "      <th>gangrape</th>\n",
              "      <th>robbery</th>\n",
              "      <th>theft</th>\n",
              "      <th>assualt murders</th>\n",
              "      <th>sexual harassement</th>\n",
              "      <th>totarea</th>\n",
              "      <th>totalcrime</th>\n",
              "      <th>long</th>\n",
              "      <th>lat</th>\n",
              "      <th>crime/area</th>\n",
              "      <th>area</th>\n",
              "    </tr>\n",
              "  </thead>\n",
              "  <tbody>\n",
              "    <tr>\n",
              "      <th>0</th>\n",
              "      <td>CHITRANJAN PARK</td>\n",
              "      <td>2</td>\n",
              "      <td>6</td>\n",
              "      <td>1</td>\n",
              "      <td>35</td>\n",
              "      <td>442</td>\n",
              "      <td>19</td>\n",
              "      <td>7</td>\n",
              "      <td>2659329.537</td>\n",
              "      <td>512</td>\n",
              "      <td>77.24920</td>\n",
              "      <td>28.53632</td>\n",
              "      <td>192.529731</td>\n",
              "      <td>2.659330</td>\n",
              "    </tr>\n",
              "    <tr>\n",
              "      <th>1</th>\n",
              "      <td>DABRI</td>\n",
              "      <td>8</td>\n",
              "      <td>28</td>\n",
              "      <td>0</td>\n",
              "      <td>79</td>\n",
              "      <td>240</td>\n",
              "      <td>26</td>\n",
              "      <td>16</td>\n",
              "      <td>3401013.428</td>\n",
              "      <td>397</td>\n",
              "      <td>77.08600</td>\n",
              "      <td>28.61268</td>\n",
              "      <td>116.729912</td>\n",
              "      <td>3.401013</td>\n",
              "    </tr>\n",
              "    <tr>\n",
              "      <th>2</th>\n",
              "      <td>MALVIYA NAGAR</td>\n",
              "      <td>3</td>\n",
              "      <td>28</td>\n",
              "      <td>1</td>\n",
              "      <td>33</td>\n",
              "      <td>694</td>\n",
              "      <td>63</td>\n",
              "      <td>15</td>\n",
              "      <td>1379853.572</td>\n",
              "      <td>837</td>\n",
              "      <td>77.20418</td>\n",
              "      <td>28.52989</td>\n",
              "      <td>606.586102</td>\n",
              "      <td>1.379854</td>\n",
              "    </tr>\n",
              "    <tr>\n",
              "      <th>3</th>\n",
              "      <td>CHANDNI MAHAL</td>\n",
              "      <td>1</td>\n",
              "      <td>8</td>\n",
              "      <td>1</td>\n",
              "      <td>23</td>\n",
              "      <td>529</td>\n",
              "      <td>19</td>\n",
              "      <td>7</td>\n",
              "      <td>5570696.132</td>\n",
              "      <td>588</td>\n",
              "      <td>77.23608</td>\n",
              "      <td>28.64361</td>\n",
              "      <td>105.552338</td>\n",
              "      <td>5.570696</td>\n",
              "    </tr>\n",
              "    <tr>\n",
              "      <th>4</th>\n",
              "      <td>MODEL TOWN</td>\n",
              "      <td>0</td>\n",
              "      <td>4</td>\n",
              "      <td>1</td>\n",
              "      <td>45</td>\n",
              "      <td>393</td>\n",
              "      <td>9</td>\n",
              "      <td>14</td>\n",
              "      <td>2689157.085</td>\n",
              "      <td>466</td>\n",
              "      <td>77.19369</td>\n",
              "      <td>28.70257</td>\n",
              "      <td>173.288501</td>\n",
              "      <td>2.689157</td>\n",
              "    </tr>\n",
              "  </tbody>\n",
              "</table>\n",
              "</div>"
            ],
            "text/plain": [
              "            nm_pol  murder  rape  gangrape  robbery  theft  assualt murders  \\\n",
              "0  CHITRANJAN PARK       2     6         1       35    442               19   \n",
              "1            DABRI       8    28         0       79    240               26   \n",
              "2    MALVIYA NAGAR       3    28         1       33    694               63   \n",
              "3    CHANDNI MAHAL       1     8         1       23    529               19   \n",
              "4       MODEL TOWN       0     4         1       45    393                9   \n",
              "\n",
              "   sexual harassement      totarea  totalcrime      long       lat  \\\n",
              "0                   7  2659329.537         512  77.24920  28.53632   \n",
              "1                  16  3401013.428         397  77.08600  28.61268   \n",
              "2                  15  1379853.572         837  77.20418  28.52989   \n",
              "3                   7  5570696.132         588  77.23608  28.64361   \n",
              "4                  14  2689157.085         466  77.19369  28.70257   \n",
              "\n",
              "   crime/area      area  \n",
              "0  192.529731  2.659330  \n",
              "1  116.729912  3.401013  \n",
              "2  606.586102  1.379854  \n",
              "3  105.552338  5.570696  \n",
              "4  173.288501  2.689157  "
            ]
          },
          "metadata": {
            "tags": []
          },
          "execution_count": 4
        }
      ]
    },
    {
      "metadata": {
        "id": "suXZqW1fRMrc",
        "colab_type": "code",
        "colab": {}
      },
      "cell_type": "code",
      "source": [
        "X = data.iloc[:, [1,2,3,4,5,6,7,12]].values"
      ],
      "execution_count": 0,
      "outputs": []
    },
    {
      "metadata": {
        "id": "_TcHmWo5RoLI",
        "colab_type": "code",
        "colab": {}
      },
      "cell_type": "code",
      "source": [
        "from sklearn.preprocessing import StandardScaler\n",
        "sc_X = StandardScaler()\n",
        "X = sc_X.fit_transform(X)"
      ],
      "execution_count": 0,
      "outputs": []
    },
    {
      "metadata": {
        "id": "CMKpETD2RrSw",
        "colab_type": "code",
        "colab": {}
      },
      "cell_type": "code",
      "source": [
        "from sklearn.cluster import KMeans\n",
        "wcss = []\n",
        "for i in range(1, 21):\n",
        "    kmeans = KMeans(n_clusters = i, init = 'k-means++', random_state = 42)\n",
        "    kmeans.fit(X)\n",
        "    wcss.append(kmeans.inertia_)"
      ],
      "execution_count": 0,
      "outputs": []
    },
    {
      "metadata": {
        "id": "O5trfR9KR7-d",
        "colab_type": "code",
        "colab": {
          "base_uri": "https://localhost:8080/",
          "height": 74
        },
        "outputId": "fdde637f-5b01-4a5e-b7b6-72fb41ba6654"
      },
      "cell_type": "code",
      "source": [
        "print(wcss)"
      ],
      "execution_count": 8,
      "outputs": [
        {
          "output_type": "stream",
          "text": [
            "[1328.0, 996.6151424286376, 871.9102681805609, 772.8054037447861, 711.2396067923485, 660.6275660059493, 619.0829548622826, 570.2878781509746, 546.6994595248077, 512.9764502206173, 494.2056732684565, 470.67133647403125, 453.85732035253477, 438.30057896030974, 430.52139291382707, 403.4562311134483, 393.37242984350127, 379.5808465826283, 376.77911713648433, 365.1175946122928]\n"
          ],
          "name": "stdout"
        }
      ]
    },
    {
      "metadata": {
        "id": "wsghIS8ER-gF",
        "colab_type": "code",
        "colab": {}
      },
      "cell_type": "code",
      "source": [
        "import matplotlib.pyplot as plt"
      ],
      "execution_count": 0,
      "outputs": []
    },
    {
      "metadata": {
        "id": "QtOOq9MSSHF7",
        "colab_type": "code",
        "colab": {
          "base_uri": "https://localhost:8080/",
          "height": 376
        },
        "outputId": "1023c106-7a64-41b8-c146-63971251ecf8"
      },
      "cell_type": "code",
      "source": [
        "plt.plot(range(1, 21), wcss)\n",
        "plt.title('The Elbow Method')\n",
        "plt.xlabel('Number of clusters')\n",
        "plt.ylabel('WCSS')\n",
        "plt.show()"
      ],
      "execution_count": 10,
      "outputs": [
        {
          "output_type": "display_data",
          "data": {
            "image/png": "[encoded data removed]",
            "text/plain": [
              "<matplotlib.figure.Figure at 0x7f39431cd2b0>"
            ]
          },
          "metadata": {
            "tags": []
          }
        }
      ]
    },
    {
      "metadata": {
        "id": "_5qf_vwCTA-A",
        "colab_type": "code",
        "colab": {
          "base_uri": "https://localhost:8080/",
          "height": 102
        },
        "outputId": "d0fd11dd-033d-4ec6-f25e-8af58eeb7f27"
      },
      "cell_type": "code",
      "source": [
        "kmeans = KMeans(n_clusters = 6, init = 'k-means++', random_state = 42)\n",
        "y_kmeans = kmeans.fit_predict(X)\n",
        "print(y_kmeans)"
      ],
      "execution_count": 11,
      "outputs": [
        {
          "output_type": "stream",
          "text": [
            "[1 0 4 1 1 0 1 1 1 1 5 0 1 0 5 0 0 0 4 5 0 3 1 1 2 1 0 1 1 3 5 0 5 1 1 5 5\n",
            " 1 5 1 3 5 1 3 0 5 0 0 1 5 1 0 1 1 3 3 0 3 3 3 1 5 5 3 5 3 1 5 0 1 2 1 4 3\n",
            " 3 5 5 1 5 1 1 4 0 3 2 1 5 3 0 0 3 5 5 4 3 2 1 1 5 2 5 1 1 0 1 3 1 5 5 5 5\n",
            " 5 1 2 5 5 1 3 1 0 5 3 2 5 1 2 4 1 5 3 4 3 4 1 1 3 1 1 1 1 1 3 2 5 5 0 1 3\n",
            " 5 5 1 3 3 5 3 1 5 2 5 5 2 5 1 3 3 1]\n"
          ],
          "name": "stdout"
        }
      ]
    },
    {
      "metadata": {
        "id": "92VmqddIT0iF",
        "colab_type": "code",
        "colab": {}
      },
      "cell_type": "code",
      "source": [
        "from sklearn.decomposition import KernelPCA\n",
        "kpca = KernelPCA(n_components = 2, kernel = 'rbf')\n",
        "X = kpca.fit_transform(X)"
      ],
      "execution_count": 0,
      "outputs": []
    },
    {
      "metadata": {
        "id": "nUa-nNW_T6SU",
        "colab_type": "code",
        "colab": {
          "base_uri": "https://localhost:8080/",
          "height": 364
        },
        "outputId": "0623ee3e-c1b3-4b80-916b-13fd86ad47a4"
      },
      "cell_type": "code",
      "source": [
        "plt.scatter(X[y_kmeans == 0, 0], X[y_kmeans == 0, 1], s = 100, c = 'red')\n",
        "plt.scatter(X[y_kmeans == 1, 0], X[y_kmeans == 1, 1], s = 100, c = 'blue')\n",
        "plt.scatter(X[y_kmeans == 2, 0], X[y_kmeans == 2, 1], s = 100, c = 'green')\n",
        "plt.scatter(X[y_kmeans == 3, 0], X[y_kmeans == 3, 1], s = 100, c = 'cyan')\n",
        "plt.scatter(X[y_kmeans == 4, 0], X[y_kmeans == 4, 1], s = 100, c = 'magenta' )\n",
        "plt.scatter(X[y_kmeans == 5, 0], X[y_kmeans == 5, 1], s = 100, c = 'black' )"
      ],
      "execution_count": 13,
      "outputs": [
        {
          "output_type": "execute_result",
          "data": {
            "text/plain": [
              "<matplotlib.collections.PathCollection at 0x7f393da1f9b0>"
            ]
          },
          "metadata": {
            "tags": []
          },
          "execution_count": 13
        },
        {
          "output_type": "display_data",
          "data": {
            "image/png": "[encoded data removed]",
            "text/plain": [
              "<matplotlib.figure.Figure at 0x7f3940257cf8>"
            ]
          },
          "metadata": {
            "tags": []
          }
        }
      ]
    },
    {
      "metadata": {
        "id": "KdTZ1MgcT9ma",
        "colab_type": "code",
        "colab": {
          "base_uri": "https://localhost:8080/",
          "height": 376
        },
        "outputId": "76199b13-a327-4517-9833-21a8fa77b1cc"
      },
      "cell_type": "code",
      "source": [
        "plt.scatter(kmeans.cluster_centers_[:, 0], kmeans.cluster_centers_[:, 1], s = 500, c = 'orange', label = 'Centroids')\n",
        "plt.title('Clusters of areas')\n",
        "plt.xlabel('factor1')\n",
        "plt.ylabel('factor2')\n",
        "plt.legend()\n",
        "plt.show()"
      ],
      "execution_count": 14,
      "outputs": [
        {
          "output_type": "display_data",
          "data": {
            "image/png": "[encoded data removed]",
            "text/plain": [
              "<matplotlib.figure.Figure at 0x7f394024be10>"
            ]
          },
          "metadata": {
            "tags": []
          }
        }
      ]
    },
    {
      "metadata": {
        "id": "CfnPWZgkUPpJ",
        "colab_type": "code",
        "colab": {
          "base_uri": "https://localhost:8080/",
          "height": 153
        },
        "outputId": "eb31b554-6214-4d64-f934-c95a50506baa"
      },
      "cell_type": "code",
      "source": [
        "y_kmeans"
      ],
      "execution_count": 15,
      "outputs": [
        {
          "output_type": "execute_result",
          "data": {
            "text/plain": [
              "array([1, 0, 4, 1, 1, 0, 1, 1, 1, 1, 5, 0, 1, 0, 5, 0, 0, 0, 4, 5, 0, 3,\n",
              "       1, 1, 2, 1, 0, 1, 1, 3, 5, 0, 5, 1, 1, 5, 5, 1, 5, 1, 3, 5, 1, 3,\n",
              "       0, 5, 0, 0, 1, 5, 1, 0, 1, 1, 3, 3, 0, 3, 3, 3, 1, 5, 5, 3, 5, 3,\n",
              "       1, 5, 0, 1, 2, 1, 4, 3, 3, 5, 5, 1, 5, 1, 1, 4, 0, 3, 2, 1, 5, 3,\n",
              "       0, 0, 3, 5, 5, 4, 3, 2, 1, 1, 5, 2, 5, 1, 1, 0, 1, 3, 1, 5, 5, 5,\n",
              "       5, 5, 1, 2, 5, 5, 1, 3, 1, 0, 5, 3, 2, 5, 1, 2, 4, 1, 5, 3, 4, 3,\n",
              "       4, 1, 1, 3, 1, 1, 1, 1, 1, 3, 2, 5, 5, 0, 1, 3, 5, 5, 1, 3, 3, 5,\n",
              "       3, 1, 5, 2, 5, 5, 2, 5, 1, 3, 3, 1], dtype=int32)"
            ]
          },
          "metadata": {
            "tags": []
          },
          "execution_count": 15
        }
      ]
    },
    {
      "metadata": {
        "id": "EhOTqAUZUyl7",
        "colab_type": "code",
        "colab": {}
      },
      "cell_type": "code",
      "source": [
        "places = data.iloc[:,0].values"
      ],
      "execution_count": 0,
      "outputs": []
    },
    {
      "metadata": {
        "id": "pIHAxq2xV7ES",
        "colab_type": "code",
        "colab": {}
      },
      "cell_type": "code",
      "source": [
        "longitude = data.iloc[:, 10].values\n",
        "latitude = data.iloc[:, 11].values"
      ],
      "execution_count": 0,
      "outputs": []
    },
    {
      "metadata": {
        "id": "HigwqxJCWja2",
        "colab_type": "code",
        "colab": {
          "base_uri": "https://localhost:8080/",
          "height": 493
        },
        "outputId": "4690d00b-87cc-4996-bf96-ee74163ff859"
      },
      "cell_type": "code",
      "source": [
        "latitude"
      ],
      "execution_count": 18,
      "outputs": [
        {
          "output_type": "execute_result",
          "data": {
            "text/plain": [
              "array([28.53632, 28.61268, 28.52989, 28.64361, 28.70257, 28.65335,\n",
              "       28.66645, 28.53067, 28.6091 , 28.56234, 28.52299, 28.7072 ,\n",
              "       28.72582, 28.66004, 28.59139, 28.71793, 28.57051, 28.70236,\n",
              "       28.67441, 28.60369, 28.73664, 28.65284, 28.70984, 28.60337,\n",
              "       28.62038, 28.67965, 28.46549, 28.64981, 28.63969, 28.73358,\n",
              "       28.64295, 28.63089, 28.56934, 28.70024, 28.66879, 28.53321,\n",
              "       28.54728, 28.64784, 28.58744, 28.63077, 28.52678, 28.72516,\n",
              "       28.59572, 28.62657, 28.70965, 28.71003, 28.55914, 28.79903,\n",
              "       28.72579, 28.53492, 28.74286, 28.79654, 28.72449, 28.63356,\n",
              "       28.49893, 28.63505, 28.71681, 28.68423, 28.69784, 28.66539,\n",
              "       28.63   , 28.59238, 28.6419 , 28.69664, 28.66676, 28.65557,\n",
              "       28.70265, 28.6554 , 28.68851, 28.69245, 28.63896, 28.58809,\n",
              "       28.66013, 28.60935, 28.64583, 28.65399, 28.57449, 28.60975,\n",
              "       28.52958, 28.61363, 28.49385, 28.68901, 28.66917, 28.69251,\n",
              "       28.63857, 28.59827, 28.56843, 28.66699, 28.60415, 28.65597,\n",
              "       28.75841, 28.5541 , 28.62997, 28.62499, 28.56468, 28.56207,\n",
              "       28.66254, 28.50165, 28.54046, 28.68199, 28.55848, 28.64335,\n",
              "       28.57837, 28.67112, 28.62046, 28.61821, 28.65151, 28.50957,\n",
              "       28.60733, 28.74766, 28.65955, 28.56411, 28.64751, 28.65375,\n",
              "       28.52882, 28.63775, 28.63852, 28.64053, 28.54939, 28.80659,\n",
              "       28.73043, 28.6274 , 28.5759 , 28.59872, 28.65258, 28.65761,\n",
              "       28.64359, 28.65237, 28.55797, 28.65256, 28.57835, 28.85321,\n",
              "       28.59818, 28.62473, 28.665  , 28.62543, 28.68062, 28.62543,\n",
              "       28.62867, 28.58691, 28.52149, 28.70045, 28.62863, 28.66837,\n",
              "       28.67005, 28.68499, 28.53486, 28.70894, 28.62486, 28.67811,\n",
              "       28.6743 , 28.68277, 28.6742 , 28.71113, 28.69612, 28.70603,\n",
              "       28.67042, 28.70128, 28.67909, 28.67341, 28.69853, 28.68496,\n",
              "       28.67202, 28.71128, 28.73284, 28.70225])"
            ]
          },
          "metadata": {
            "tags": []
          },
          "execution_count": 18
        }
      ]
    },
    {
      "metadata": {
        "id": "oITfxV-DVDiJ",
        "colab_type": "code",
        "colab": {}
      },
      "cell_type": "code",
      "source": [
        "results = []\n",
        "   \n",
        "for i in range(0, 166):\n",
        "    longitude[i] = round(longitude[i], 4)\n",
        "    latitude[i] = round(latitude[i], 4)\n",
        "\n",
        "    response = {\n",
        "            'danger_index': y_kmeans[i],\n",
        "            'longitude': longitude[i], \n",
        "            'latitude': latitude[i]\n",
        "        }\n",
        "    results.append(response)"
      ],
      "execution_count": 0,
      "outputs": []
    },
    {
      "metadata": {
        "id": "OxRR-C0bXI-s",
        "colab_type": "code",
        "colab": {}
      },
      "cell_type": "code",
      "source": [
        "import pprint"
      ],
      "execution_count": 0,
      "outputs": []
    },
    {
      "metadata": {
        "id": "m_GLX8uqXKmw",
        "colab_type": "code",
        "colab": {
          "base_uri": "https://localhost:8080/",
          "height": 2839
        },
        "outputId": "0969f42a-f4b7-4ab1-fc22-64bad90eb5d9"
      },
      "cell_type": "code",
      "source": [
        "pprint.pprint(results)"
      ],
      "execution_count": 21,
      "outputs": [
        {
          "output_type": "stream",
          "text": [
            "[{'danger_index': 1, 'latitude': 28.5363, 'longitude': 77.2492},\n",
            " {'danger_index': 0, 'latitude': 28.6127, 'longitude': 77.086},\n",
            " {'danger_index': 4, 'latitude': 28.5299, 'longitude': 77.2042},\n",
            " {'danger_index': 1, 'latitude': 28.6436, 'longitude': 77.2361},\n",
            " {'danger_index': 1, 'latitude': 28.7026, 'longitude': 77.1937},\n",
            " {'danger_index': 0, 'latitude': 28.6534, 'longitude': 77.2937},\n",
            " {'danger_index': 1, 'latitude': 28.6664, 'longitude': 77.2262},\n",
            " {'danger_index': 1, 'latitude': 28.5307, 'longitude': 77.2653},\n",
            " {'danger_index': 1, 'latitude': 28.6091, 'longitude': 77.0662},\n",
            " {'danger_index': 1, 'latitude': 28.5623, 'longitude': 77.2676},\n",
            " {'danger_index': 5, 'latitude': 28.523, 'longitude': 77.3062},\n",
            " {'danger_index': 0, 'latitude': 28.7072, 'longitude': 77.2242},\n",
            " {'danger_index': 1, 'latitude': 28.7258, 'longitude': 77.0036},\n",
            " {'danger_index': 0, 'latitude': 28.66, 'longitude': 77.1738},\n",
            " {'danger_index': 5, 'latitude': 28.5914, 'longitude': 77.0864},\n",
            " {'danger_index': 0, 'latitude': 28.7179, 'longitude': 77.1276},\n",
            " {'danger_index': 0, 'latitude': 28.5705, 'longitude': 77.179},\n",
            " {'danger_index': 0, 'latitude': 28.7024, 'longitude': 77.1159},\n",
            " {'danger_index': 4, 'latitude': 28.6744, 'longitude': 77.1328},\n",
            " {'danger_index': 5, 'latitude': 28.6037, 'longitude': 77.0156},\n",
            " {'danger_index': 0, 'latitude': 28.7366, 'longitude': 77.1974},\n",
            " {'danger_index': 3, 'latitude': 28.6528, 'longitude': 77.2336},\n",
            " {'danger_index': 1, 'latitude': 28.7098, 'longitude': 77.1753},\n",
            " {'danger_index': 1, 'latitude': 28.6034, 'longitude': 77.1961},\n",
            " {'danger_index': 2, 'latitude': 28.6204, 'longitude': 77.3026},\n",
            " {'danger_index': 1, 'latitude': 28.6796, 'longitude': 77.0888},\n",
            " {'danger_index': 0, 'latitude': 28.4655, 'longitude': 77.1511},\n",
            " {'danger_index': 1, 'latitude': 28.6498, 'longitude': 77.2175},\n",
            " {'danger_index': 1, 'latitude': 28.6397, 'longitude': 77.1199},\n",
            " {'danger_index': 3, 'latitude': 28.7336, 'longitude': 77.1749},\n",
            " {'danger_index': 5, 'latitude': 28.643, 'longitude': 77.2262},\n",
            " {'danger_index': 0, 'latitude': 28.6309, 'longitude': 77.225},\n",
            " {'danger_index': 5, 'latitude': 28.5693, 'longitude': 77.2049},\n",
            " {'danger_index': 1, 'latitude': 28.7002, 'longitude': 77.2086},\n",
            " {'danger_index': 1, 'latitude': 28.6688, 'longitude': 77.2922},\n",
            " {'danger_index': 5, 'latitude': 28.5332, 'longitude': 77.2574},\n",
            " {'danger_index': 5, 'latitude': 28.5473, 'longitude': 77.2564},\n",
            " {'danger_index': 1, 'latitude': 28.6478, 'longitude': 77.1805},\n",
            " {'danger_index': 5, 'latitude': 28.5874, 'longitude': 77.2405},\n",
            " {'danger_index': 1, 'latitude': 28.6308, 'longitude': 77.145},\n",
            " {'danger_index': 3, 'latitude': 28.5268, 'longitude': 77.2746},\n",
            " {'danger_index': 5, 'latitude': 28.7252, 'longitude': 77.1422},\n",
            " {'danger_index': 1, 'latitude': 28.5957, 'longitude': 76.9156},\n",
            " {'danger_index': 3, 'latitude': 28.6266, 'longitude': 77.1208},\n",
            " {'danger_index': 0, 'latitude': 28.7096, 'longitude': 77.0608},\n",
            " {'danger_index': 5, 'latitude': 28.71, 'longitude': 77.1019},\n",
            " {'danger_index': 0, 'latitude': 28.5591, 'longitude': 77.2409},\n",
            " {'danger_index': 0, 'latitude': 28.799, 'longitude': 77.1391},\n",
            " {'danger_index': 1, 'latitude': 28.7258, 'longitude': 77.1642},\n",
            " {'danger_index': 5, 'latitude': 28.5349, 'longitude': 77.1524},\n",
            " {'danger_index': 1, 'latitude': 28.7429, 'longitude': 77.1657},\n",
            " {'danger_index': 0, 'latitude': 28.7965, 'longitude': 77.0425},\n",
            " {'danger_index': 1, 'latitude': 28.7245, 'longitude': 77.0518},\n",
            " {'danger_index': 1, 'latitude': 28.6336, 'longitude': 77.1378},\n",
            " {'danger_index': 3, 'latitude': 28.4989, 'longitude': 77.2143},\n",
            " {'danger_index': 3, 'latitude': 28.635, 'longitude': 77.1828},\n",
            " {'danger_index': 0, 'latitude': 28.7168, 'longitude': 77.1571},\n",
            " {'danger_index': 3, 'latitude': 28.6842, 'longitude': 77.1598},\n",
            " {'danger_index': 3, 'latitude': 28.6978, 'longitude': 77.1193},\n",
            " {'danger_index': 3, 'latitude': 28.6654, 'longitude': 77.2085},\n",
            " {'danger_index': 1, 'latitude': 28.63, 'longitude': 77.2143},\n",
            " {'danger_index': 5, 'latitude': 28.5924, 'longitude': 77.2442},\n",
            " {'danger_index': 5, 'latitude': 28.6419, 'longitude': 77.2406},\n",
            " {'danger_index': 3, 'latitude': 28.6966, 'longitude': 77.0916},\n",
            " {'danger_index': 5, 'latitude': 28.6668, 'longitude': 77.3066},\n",
            " {'danger_index': 3, 'latitude': 28.6556, 'longitude': 77.2188},\n",
            " {'danger_index': 1, 'latitude': 28.7026, 'longitude': 77.0786},\n",
            " {'danger_index': 5, 'latitude': 28.6554, 'longitude': 77.2764},\n",
            " {'danger_index': 0, 'latitude': 28.6885, 'longitude': 77.2215},\n",
            " {'danger_index': 1, 'latitude': 28.6924, 'longitude': 77.1743},\n",
            " {'danger_index': 2, 'latitude': 28.639, 'longitude': 77.1014},\n",
            " {'danger_index': 1, 'latitude': 28.5881, 'longitude': 77.0829},\n",
            " {'danger_index': 4, 'latitude': 28.6601, 'longitude': 77.1466},\n",
            " {'danger_index': 3, 'latitude': 28.6094, 'longitude': 77.0995},\n",
            " {'danger_index': 3, 'latitude': 28.6458, 'longitude': 77.2093},\n",
            " {'danger_index': 5, 'latitude': 28.654, 'longitude': 77.2112},\n",
            " {'danger_index': 5, 'latitude': 28.5745, 'longitude': 77.1991},\n",
            " {'danger_index': 1, 'latitude': 28.6098, 'longitude': 76.9827},\n",
            " {'danger_index': 5, 'latitude': 28.5296, 'longitude': 77.0872},\n",
            " {'danger_index': 1, 'latitude': 28.6136, 'longitude': 77.3171},\n",
            " {'danger_index': 1, 'latitude': 28.4938, 'longitude': 77.3036},\n",
            " {'danger_index': 4, 'latitude': 28.689, 'longitude': 77.1441},\n",
            " {'danger_index': 0, 'latitude': 28.6692, 'longitude': 77.2077},\n",
            " {'danger_index': 3, 'latitude': 28.6925, 'longitude': 77.2065},\n",
            " {'danger_index': 2, 'latitude': 28.6386, 'longitude': 77.2032},\n",
            " {'danger_index': 1, 'latitude': 28.5983, 'longitude': 77.2112},\n",
            " {'danger_index': 5, 'latitude': 28.5684, 'longitude': 77.2405},\n",
            " {'danger_index': 3, 'latitude': 28.667, 'longitude': 77.2807},\n",
            " {'danger_index': 0, 'latitude': 28.6042, 'longitude': 77.2337},\n",
            " {'danger_index': 0, 'latitude': 28.656, 'longitude': 77.3131},\n",
            " {'danger_index': 3, 'latitude': 28.7584, 'longitude': 77.1562},\n",
            " {'danger_index': 5, 'latitude': 28.5541, 'longitude': 77.2328},\n",
            " {'danger_index': 5, 'latitude': 28.63, 'longitude': 77.0683},\n",
            " {'danger_index': 4, 'latitude': 28.625, 'longitude': 77.0649},\n",
            " {'danger_index': 3, 'latitude': 28.5647, 'longitude': 77.2334},\n",
            " {'danger_index': 2, 'latitude': 28.5621, 'longitude': 77.2924},\n",
            " {'danger_index': 1, 'latitude': 28.6625, 'longitude': 77.2315},\n",
            " {'danger_index': 1, 'latitude': 28.5016, 'longitude': 77.291},\n",
            " {'danger_index': 5, 'latitude': 28.5405, 'longitude': 77.282},\n",
            " {'danger_index': 2, 'latitude': 28.682, 'longitude': 77.067},\n",
            " {'danger_index': 5, 'latitude': 28.5585, 'longitude': 77.1986},\n",
            " {'danger_index': 1, 'latitude': 28.6434, 'longitude': 77.2255},\n",
            " {'danger_index': 1, 'latitude': 28.5784, 'longitude': 77.0667},\n",
            " {'danger_index': 0, 'latitude': 28.6711, 'longitude': 77.1012},\n",
            " {'danger_index': 1, 'latitude': 28.6205, 'longitude': 77.0674},\n",
            " {'danger_index': 3, 'latitude': 28.6182, 'longitude': 77.2354},\n",
            " {'danger_index': 1, 'latitude': 28.6515, 'longitude': 77.1196},\n",
            " {'danger_index': 5, 'latitude': 28.5096, 'longitude': 77.243},\n",
            " {'danger_index': 5, 'latitude': 28.6073, 'longitude': 77.3037},\n",
            " {'danger_index': 5, 'latitude': 28.7477, 'longitude': 77.0789},\n",
            " {'danger_index': 5, 'latitude': 28.6596, 'longitude': 77.2673},\n",
            " {'danger_index': 5, 'latitude': 28.5641, 'longitude': 77.0585},\n",
            " {'danger_index': 1, 'latitude': 28.6475, 'longitude': 77.1587},\n",
            " {'danger_index': 2, 'latitude': 28.6538, 'longitude': 77.036},\n",
            " {'danger_index': 5, 'latitude': 28.5288, 'longitude': 77.2272},\n",
            " {'danger_index': 5, 'latitude': 28.6378, 'longitude': 77.2703},\n",
            " {'danger_index': 1, 'latitude': 28.6385, 'longitude': 77.2953},\n",
            " {'danger_index': 3, 'latitude': 28.6405, 'longitude': 77.1351},\n",
            " {'danger_index': 1, 'latitude': 28.5494, 'longitude': 77.2085},\n",
            " {'danger_index': 0, 'latitude': 28.8066, 'longitude': 77.0228},\n",
            " {'danger_index': 5, 'latitude': 28.7304, 'longitude': 77.121},\n",
            " {'danger_index': 3, 'latitude': 28.6274, 'longitude': 77.2472},\n",
            " {'danger_index': 2, 'latitude': 28.5759, 'longitude': 77.2251},\n",
            " {'danger_index': 5, 'latitude': 28.5987, 'longitude': 77.1244},\n",
            " {'danger_index': 1, 'latitude': 28.6526, 'longitude': 77.1933},\n",
            " {'danger_index': 2, 'latitude': 28.6576, 'longitude': 77.1133},\n",
            " {'danger_index': 4, 'latitude': 28.6436, 'longitude': 77.2839},\n",
            " {'danger_index': 1, 'latitude': 28.6524, 'longitude': 77.1582},\n",
            " {'danger_index': 5, 'latitude': 28.558, 'longitude': 77.1693},\n",
            " {'danger_index': 3, 'latitude': 28.6526, 'longitude': 77.1932},\n",
            " {'danger_index': 4, 'latitude': 28.5784, 'longitude': 77.2602},\n",
            " {'danger_index': 3, 'latitude': 28.8532, 'longitude': 77.0885},\n",
            " {'danger_index': 4, 'latitude': 28.5982, 'longitude': 77.3118},\n",
            " {'danger_index': 1, 'latitude': 28.6247, 'longitude': 77.2137},\n",
            " {'danger_index': 1, 'latitude': 28.665, 'longitude': 77.0717},\n",
            " {'danger_index': 3, 'latitude': 28.6254, 'longitude': 77.3061},\n",
            " {'danger_index': 1, 'latitude': 28.6806, 'longitude': 77.1785},\n",
            " {'danger_index': 1, 'latitude': 28.6254, 'longitude': 77.3061},\n",
            " {'danger_index': 1, 'latitude': 28.6287, 'longitude': 76.9668},\n",
            " {'danger_index': 1, 'latitude': 28.5869, 'longitude': 76.9947},\n",
            " {'danger_index': 1, 'latitude': 28.5215, 'longitude': 77.1802},\n",
            " {'danger_index': 3, 'latitude': 28.7004, 'longitude': 77.146},\n",
            " {'danger_index': 2, 'latitude': 28.6286, 'longitude': 77.0819},\n",
            " {'danger_index': 5, 'latitude': 28.6684, 'longitude': 77.1837},\n",
            " {'danger_index': 5, 'latitude': 28.67, 'longitude': 77.1926},\n",
            " {'danger_index': 0, 'latitude': 28.685, 'longitude': 77.2026},\n",
            " {'danger_index': 1, 'latitude': 28.5349, 'longitude': 77.1523},\n",
            " {'danger_index': 3, 'latitude': 28.7089, 'longitude': 77.1182},\n",
            " {'danger_index': 5, 'latitude': 28.6249, 'longitude': 77.3327},\n",
            " {'danger_index': 5, 'latitude': 28.6781, 'longitude': 77.3165},\n",
            " {'danger_index': 1, 'latitude': 28.6743, 'longitude': 77.2686},\n",
            " {'danger_index': 3, 'latitude': 28.6828, 'longitude': 77.2986},\n",
            " {'danger_index': 3, 'latitude': 28.6742, 'longitude': 77.2852},\n",
            " {'danger_index': 5, 'latitude': 28.7111, 'longitude': 77.2561},\n",
            " {'danger_index': 3, 'latitude': 28.6961, 'longitude': 77.2917},\n",
            " {'danger_index': 1, 'latitude': 28.706, 'longitude': 77.3185},\n",
            " {'danger_index': 5, 'latitude': 28.6704, 'longitude': 76.9608},\n",
            " {'danger_index': 2, 'latitude': 28.7013, 'longitude': 77.2644},\n",
            " {'danger_index': 5, 'latitude': 28.6791, 'longitude': 77.273},\n",
            " {'danger_index': 5, 'latitude': 28.6734, 'longitude': 77.2748},\n",
            " {'danger_index': 2, 'latitude': 28.6985, 'longitude': 77.3082},\n",
            " {'danger_index': 5, 'latitude': 28.685, 'longitude': 77.316},\n",
            " {'danger_index': 1, 'latitude': 28.672, 'longitude': 77.2621},\n",
            " {'danger_index': 3, 'latitude': 28.7113, 'longitude': 77.2561},\n",
            " {'danger_index': 3, 'latitude': 28.7328, 'longitude': 77.2745},\n",
            " {'danger_index': 1, 'latitude': 28.7022, 'longitude': 77.2808}]\n"
          ],
          "name": "stdout"
        }
      ]
    },
    {
      "metadata": {
        "id": "oG4kf2-0XQZv",
        "colab_type": "code",
        "colab": {}
      },
      "cell_type": "code",
      "source": [
        "import joblib"
      ],
      "execution_count": 0,
      "outputs": []
    },
    {
      "metadata": {
        "id": "RisPKxKKYMSa",
        "colab_type": "code",
        "colab": {
          "base_uri": "https://localhost:8080/",
          "height": 34
        },
        "outputId": "a55569fc-a6bd-4b65-9a5c-71ffddaf0d2c"
      },
      "cell_type": "code",
      "source": [
        "joblib.dump(kmeans, \"predicted_danger.pkl\")"
      ],
      "execution_count": 24,
      "outputs": [
        {
          "output_type": "execute_result",
          "data": {
            "text/plain": [
              "['predicted_danger.pkl']"
            ]
          },
          "metadata": {
            "tags": []
          },
          "execution_count": 24
        }
      ]
    },
    {
      "metadata": {
        "id": "NXoHdORpYjCC",
        "colab_type": "code",
        "colab": {}
      },
      "cell_type": "code",
      "source": [
        "from google.colab import files"
      ],
      "execution_count": 0,
      "outputs": []
    },
    {
      "metadata": {
        "id": "SGWsghGNYoIp",
        "colab_type": "code",
        "colab": {}
      },
      "cell_type": "code",
      "source": [
        "files.download('predicted_danger.pkl')"
      ],
      "execution_count": 0,
      "outputs": []
    },
    {
      "metadata": {
        "id": "GsHNYeWUYsbC",
        "colab_type": "code",
        "colab": {}
      },
      "cell_type": "code",
      "source": [
        ""
      ],
      "execution_count": 0,
      "outputs": []
    }
  ]
}